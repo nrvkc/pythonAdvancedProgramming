{
 "cells": [
  {
   "cell_type": "code",
   "execution_count": 1,
   "id": "a218ae42",
   "metadata": {},
   "outputs": [],
   "source": [
    "#1. Write a function that takes a positive integer num and calculates how many dots exist in a pentagonal shape around the center dot on the Nth iteration."
   ]
  },
  {
   "cell_type": "code",
   "execution_count": 31,
   "id": "87ebe2a5",
   "metadata": {},
   "outputs": [
    {
     "data": {
      "text/plain": [
       "141"
      ]
     },
     "execution_count": 31,
     "metadata": {},
     "output_type": "execute_result"
    }
   ],
   "source": [
    "from functools import reduce\n",
    "def addition(x,y):\n",
    "    return x+y\n",
    "\n",
    "def pentagon(n):\n",
    "    sum=reduce(addition,range(1,n))\n",
    "    sum=sum*5+1\n",
    "    return sum\n",
    "\n",
    "pentagon(8)\n",
    "\n"
   ]
  },
  {
   "cell_type": "code",
   "execution_count": 32,
   "id": "8551cb06",
   "metadata": {},
   "outputs": [
    {
     "data": {
      "text/plain": [
       "16"
      ]
     },
     "execution_count": 32,
     "metadata": {},
     "output_type": "execute_result"
    }
   ],
   "source": [
    "pentagon(3)"
   ]
  },
  {
   "cell_type": "code",
   "execution_count": 33,
   "id": "03c4a9e7",
   "metadata": {},
   "outputs": [
    {
     "data": {
      "text/plain": [
       "51"
      ]
     },
     "execution_count": 33,
     "metadata": {},
     "output_type": "execute_result"
    }
   ],
   "source": [
    "pentagon(5)"
   ]
  },
  {
   "cell_type": "code",
   "execution_count": 34,
   "id": "f9554bc1",
   "metadata": {},
   "outputs": [
    {
     "data": {
      "text/plain": [
       "31"
      ]
     },
     "execution_count": 34,
     "metadata": {},
     "output_type": "execute_result"
    }
   ],
   "source": [
    "pentagon(4)"
   ]
  },
  {
   "cell_type": "code",
   "execution_count": 35,
   "id": "2badf626",
   "metadata": {},
   "outputs": [
    {
     "ename": "SyntaxError",
     "evalue": "invalid syntax (Temp/ipykernel_8224/2420575601.py, line 1)",
     "output_type": "error",
     "traceback": [
      "\u001b[1;36m  File \u001b[1;32m\"C:\\Users\\HP\\AppData\\Local\\Temp/ipykernel_8224/2420575601.py\"\u001b[1;36m, line \u001b[1;32m1\u001b[0m\n\u001b[1;33m    2. Make a function that encrypts a given input with these steps:\u001b[0m\n\u001b[1;37m       ^\u001b[0m\n\u001b[1;31mSyntaxError\u001b[0m\u001b[1;31m:\u001b[0m invalid syntax\n"
     ]
    }
   ],
   "source": [
    "2. Make a function that encrypts a given input with these steps:\n",
    "Input: \"apple\""
   ]
  },
  {
   "cell_type": "code",
   "execution_count": 59,
   "id": "0904dfbe",
   "metadata": {},
   "outputs": [],
   "source": [
    "def encryption(input):\n",
    "    dict={'a':'0','e' : '1',\n",
    "            'i' : '2',\n",
    "            'o' : '2',\n",
    "            'u' : '3'\n",
    "         }\n",
    "    if type(input)==str:\n",
    "        rev=list(input[::-1])\n",
    "        for i in range(len(rev)):\n",
    "            if rev[i] in dict.keys():\n",
    "                rev[i]=dict.get(rev[i])\n",
    "        result= \"\".join(rev)\n",
    "        return result+\"aca\"\n",
    "    else:\n",
    "        return 'enter a valid input'"
   ]
  },
  {
   "cell_type": "code",
   "execution_count": 60,
   "id": "df839ef3",
   "metadata": {},
   "outputs": [
    {
     "data": {
      "text/plain": [
       "'1lpp0aca'"
      ]
     },
     "execution_count": 60,
     "metadata": {},
     "output_type": "execute_result"
    }
   ],
   "source": [
    "encryption(\"apple\")"
   ]
  },
  {
   "cell_type": "code",
   "execution_count": 61,
   "id": "a6c8a8b7",
   "metadata": {},
   "outputs": [
    {
     "data": {
      "text/plain": [
       "'0n0n0baca'"
      ]
     },
     "execution_count": 61,
     "metadata": {},
     "output_type": "execute_result"
    }
   ],
   "source": [
    "encryption(\"banana\") "
   ]
  },
  {
   "cell_type": "code",
   "execution_count": 58,
   "id": "a1e1f45d",
   "metadata": {},
   "outputs": [],
   "source": [
    "#3. Given the month and year as numbers, return whether that month contains a Friday 13th.(i.e You can check Python's datetime module)"
   ]
  },
  {
   "cell_type": "code",
   "execution_count": 65,
   "id": "36d821fc",
   "metadata": {},
   "outputs": [
    {
     "data": {
      "text/plain": [
       "True"
      ]
     },
     "execution_count": 65,
     "metadata": {},
     "output_type": "execute_result"
    }
   ],
   "source": [
    "import datetime\n",
    "import calendar\n",
    " \n",
    "def has_friday_13(month,year):\n",
    "    dayNumber = calendar.weekday(year, month, 13)\n",
    "    days =[\"Monday\", \"Tuesday\", \"Wednesday\", \"Thursday\",\n",
    "                         \"Friday\", \"Saturday\", \"Sunday\"]\n",
    "    return True if days[dayNumber]==\"Friday\" else False\n",
    " \n",
    "has_friday_13(3, 2020)\n"
   ]
  },
  {
   "cell_type": "code",
   "execution_count": 66,
   "id": "21839106",
   "metadata": {},
   "outputs": [
    {
     "data": {
      "text/plain": [
       "True"
      ]
     },
     "execution_count": 66,
     "metadata": {},
     "output_type": "execute_result"
    }
   ],
   "source": [
    "has_friday_13(10, 2017)"
   ]
  },
  {
   "cell_type": "code",
   "execution_count": 67,
   "id": "c69c7557",
   "metadata": {},
   "outputs": [
    {
     "data": {
      "text/plain": [
       "False"
      ]
     },
     "execution_count": 67,
     "metadata": {},
     "output_type": "execute_result"
    }
   ],
   "source": [
    "has_friday_13(1, 1985)"
   ]
  },
  {
   "cell_type": "code",
   "execution_count": 70,
   "id": "dbfda9b7",
   "metadata": {},
   "outputs": [
    {
     "data": {
      "text/plain": [
       "2"
      ]
     },
     "execution_count": 70,
     "metadata": {},
     "output_type": "execute_result"
    }
   ],
   "source": [
    "#4. Write a regular expression that will help us count how many bad cookies are produced every day.\n",
    "import re\n",
    "lst = [\"bad cookie\", \"good cookie\", \"bad cookie\", \"good cookie\", \"good cookie\"]\n",
    "pattern = \"bad cookie\"\n",
    "len(re.findall(pattern, \", \".join(lst)))"
   ]
  },
  {
   "cell_type": "code",
   "execution_count": 71,
   "id": "a633613e",
   "metadata": {},
   "outputs": [],
   "source": [
    "#5. Given a list of words in the singular form, return a set of those words in the plural form if they appear more than once in the list."
   ]
  },
  {
   "cell_type": "code",
   "execution_count": 110,
   "id": "43321b00",
   "metadata": {},
   "outputs": [],
   "source": [
    "def pluralize(inputList):\n",
    "    lstresult=[];\n",
    "    setstr=set(inputList)\n",
    "    for i in range(len(setstr)):\n",
    "        val=setstr.pop()\n",
    "        if inputList.count(val) >1:\n",
    "            lstresult.append(val+\"s\")\n",
    "        else:\n",
    "            lstresult.append(val)\n",
    "    return lstresult[::-1]\n",
    "        "
   ]
  },
  {
   "cell_type": "code",
   "execution_count": 111,
   "id": "9d24d099",
   "metadata": {},
   "outputs": [
    {
     "data": {
      "text/plain": [
       "['cows', 'pig']"
      ]
     },
     "execution_count": 111,
     "metadata": {},
     "output_type": "execute_result"
    }
   ],
   "source": [
    "pluralize([\"cow\", \"pig\", \"cow\", \"cow\"])"
   ]
  },
  {
   "cell_type": "code",
   "execution_count": 112,
   "id": "5601478a",
   "metadata": {},
   "outputs": [
    {
     "data": {
      "text/plain": [
       "['tables']"
      ]
     },
     "execution_count": 112,
     "metadata": {},
     "output_type": "execute_result"
    }
   ],
   "source": [
    "pluralize([\"table\", \"table\", \"table\"]) "
   ]
  },
  {
   "cell_type": "code",
   "execution_count": 113,
   "id": "07adb63c",
   "metadata": {},
   "outputs": [
    {
     "data": {
      "text/plain": [
       "['chair', 'arm', 'pencil']"
      ]
     },
     "execution_count": 113,
     "metadata": {},
     "output_type": "execute_result"
    }
   ],
   "source": [
    "pluralize([\"chair\", \"pencil\", \"arm\"])"
   ]
  },
  {
   "cell_type": "code",
   "execution_count": null,
   "id": "e94577d7",
   "metadata": {},
   "outputs": [],
   "source": []
  }
 ],
 "metadata": {
  "kernelspec": {
   "display_name": "Python 3 (ipykernel)",
   "language": "python",
   "name": "python3"
  },
  "language_info": {
   "codemirror_mode": {
    "name": "ipython",
    "version": 3
   },
   "file_extension": ".py",
   "mimetype": "text/x-python",
   "name": "python",
   "nbconvert_exporter": "python",
   "pygments_lexer": "ipython3",
   "version": "3.9.7"
  }
 },
 "nbformat": 4,
 "nbformat_minor": 5
}

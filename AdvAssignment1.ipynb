{
 "cells": [
  {
   "cell_type": "code",
   "execution_count": null,
   "id": "2cda1be7",
   "metadata": {},
   "outputs": [],
   "source": [
    "1. Write a function that takes a list of lists and returns the value of all of the\n",
    "symbols in it, where each symbol adds or takes something from the total\n",
    "score. Symbol values:\n",
    "# = 5\n",
    "O = 3\n",
    "X = 1\n",
    "! = -1\n",
    "!! = -3\n",
    "!!! = -5\n",
    "A list of lists containing 2 #s, a O, and a !!! would equal (0 + 5 + 5 + 3 - 5) 8.\n",
    "If the final score is negative, return 0 (e.g. 3 #s, 3 !!s, 2 !!!s and a X would be\n",
    "(0 + 5 + 5 + 5 - 3 - 3 - 3 - 5 - 5 + 1) -3, so return 0"
   ]
  },
  {
   "cell_type": "code",
   "execution_count": 24,
   "id": "4269f6c7",
   "metadata": {},
   "outputs": [
    {
     "data": {
      "text/plain": [
       "5"
      ]
     },
     "execution_count": 24,
     "metadata": {},
     "output_type": "execute_result"
    }
   ],
   "source": [
    "def check_score(inpList):\n",
    "    valDict={\n",
    "            '#':5,\n",
    "             'O':3,\n",
    "             'X':1,\n",
    "             '!':-1,\n",
    "             '!!':-3,\n",
    "             '!!!':-5\n",
    "             }\n",
    "    sum=0\n",
    "    try:\n",
    "        if type(inpList)==list:\n",
    "            for item in inpList:\n",
    "                if type(item) == list:\n",
    "                        for insideItem in item:\n",
    "                            sum=sum+valDict.get(insideItem,0)\n",
    "                else:\n",
    "                    raise Exception(\"you have given non list input\")\n",
    "            if sum <0:\n",
    "                return 0\n",
    "            return sum\n",
    "        else:\n",
    "            raise Exception(\"you have given non list input\")\n",
    "            \n",
    "        \n",
    "    except Exception as e:\n",
    "        return e.args[0]\n",
    "\n",
    "check_score([[5,6],['#']])\n",
    "        \n",
    "        \n",
    "        "
   ]
  },
  {
   "cell_type": "code",
   "execution_count": 25,
   "id": "600402cf",
   "metadata": {},
   "outputs": [
    {
     "data": {
      "text/plain": [
       "2"
      ]
     },
     "execution_count": 25,
     "metadata": {},
     "output_type": "execute_result"
    }
   ],
   "source": [
    "check_score([\n",
    " [\"#\", \"!\"],\n",
    " [\"!!\", \"X\"]\n",
    "]) "
   ]
  },
  {
   "cell_type": "code",
   "execution_count": 26,
   "id": "2e7ca287",
   "metadata": {},
   "outputs": [
    {
     "data": {
      "text/plain": [
       "0"
      ]
     },
     "execution_count": 26,
     "metadata": {},
     "output_type": "execute_result"
    }
   ],
   "source": [
    "check_score([\n",
    " [\"!!!\", \"O\", \"!\"],\n",
    " [\"X\", \"#\", \"!!!\"],\n",
    " [\"!!\", \"X\", \"O\"]\n",
    "]) "
   ]
  },
  {
   "cell_type": "code",
   "execution_count": 27,
   "id": "3756ec10",
   "metadata": {},
   "outputs": [
    {
     "data": {
      "text/plain": [
       "'you have given non list input'"
      ]
     },
     "execution_count": 27,
     "metadata": {},
     "output_type": "execute_result"
    }
   ],
   "source": [
    "check_score([\n",
    " [\"!!!\", \"O\", \"!\"],\n",
    " [\"X\", \"#\", \"!!!\"],\n",
    " 5\n",
    "]) "
   ]
  },
  {
   "cell_type": "code",
   "execution_count": null,
   "id": "db4ea805",
   "metadata": {},
   "outputs": [],
   "source": [
    "Create a function that takes a variable number of arguments, each\n",
    "argument representing the number of items in a group, and returns the\n",
    "number of permutations (combinations) of items that you could get by taking\n",
    "one item from each group.\n",
    "\n",
    "    "
   ]
  },
  {
   "cell_type": "code",
   "execution_count": 34,
   "id": "cf43fb6d",
   "metadata": {},
   "outputs": [],
   "source": [
    "def combinations(*args):\n",
    "    result=1\n",
    "    for i in range(len(args)):\n",
    "        if type(args[i]) == int:\n",
    "            result=result*args[i]\n",
    "    return result"
   ]
  },
  {
   "cell_type": "code",
   "execution_count": 35,
   "id": "bb4c9463",
   "metadata": {},
   "outputs": [
    {
     "data": {
      "text/plain": [
       "30"
      ]
     },
     "execution_count": 35,
     "metadata": {},
     "output_type": "execute_result"
    }
   ],
   "source": [
    "combinations(5,6)"
   ]
  },
  {
   "cell_type": "code",
   "execution_count": 36,
   "id": "592b7d29",
   "metadata": {},
   "outputs": [
    {
     "data": {
      "text/plain": [
       "120"
      ]
     },
     "execution_count": 36,
     "metadata": {},
     "output_type": "execute_result"
    }
   ],
   "source": [
    "combinations(2, 3, 4, 5)"
   ]
  },
  {
   "cell_type": "code",
   "execution_count": null,
   "id": "819e3763",
   "metadata": {},
   "outputs": [],
   "source": [
    "3. Create a function that takes a string as an argument and returns the Morse\n",
    "code equivalent.\n",
    "Examples\n",
    "encode_morse(\"EDABBIT CHALLENGE\") \". -.. .- -... -... .. - -.-. .... .- .-.. .-..\n",
    ". -. --. .\"\n",
    "encode_morse(\"HELP ME !\") \".... . .-.. .--. -- . -.-.--\"\n",
    "This dictionary can be used for coding:\n",
    "char_to_dots = {\n",
    " 'A': '.-', 'B': '-...', 'C': '-.-.', 'D': '-..', 'E': '.', 'F': '..-.',\n",
    " 'G': '--.', 'H': '....', 'I': '..', 'J': '.---', 'K': '-.-', 'L': '.-..',\n",
    " 'M': '--', 'N': '-.', 'O': '---', 'P': '.--.', 'Q': '--.-', 'R': '.-.',\n",
    " 'S': '...', 'T': '-', 'U': '..-', 'V': '...-', 'W': '.--', 'X': '-..-',\n",
    " 'Y': '-.--', 'Z': '--..', ' ': ' ', '0': '-----',\n",
    " '1': '.----', '2': '..---', '3': '...--', '4': '....-', '5': '.....',\n",
    " '6': '-....', '7': '--...', '8': '---..', '9': '----.',\n",
    " '&': '.-...', \"'\": '.----.', '@': '.--.-.', ')': '-.--.-', '(': '-.--.',\n",
    " ':': '---...', ',': '--..--', '=': '-...-', '!': '-.-.--', '.': '.-.-.-',\n",
    " '-': '-....-', '+': '.-.-.', '\"': '.-..-.', '?': '..--..', '/': '-..-.'\n",
    "}"
   ]
  },
  {
   "cell_type": "code",
   "execution_count": 40,
   "id": "41fe346b",
   "metadata": {},
   "outputs": [],
   "source": [
    "def encode_morse(inputString):\n",
    "    char_to_dots = {\n",
    " 'A': '.-', 'B': '-...', 'C': '-.-.', 'D': '-..', 'E': '.', 'F': '..-.',\n",
    " 'G': '--.', 'H': '....', 'I': '..', 'J': '.---', 'K': '-.-', 'L': '.-..',\n",
    " 'M': '--', 'N': '-.', 'O': '---', 'P': '.--.', 'Q': '--.-', 'R': '.-.',\n",
    " 'S': '...', 'T': '-', 'U': '..-', 'V': '...-', 'W': '.--', 'X': '-..-',\n",
    " 'Y': '-.--', 'Z': '--..', ' ': ' ', '0': '-----',\n",
    " '1': '.----', '2': '..---', '3': '...--', '4': '....-', '5': '.....',\n",
    " '6': '-....', '7': '--...', '8': '---..', '9': '----.',\n",
    " '&': '.-...', \"'\": '.----.', '@': '.--.-.', ')': '-.--.-', '(': '-.--.',\n",
    " ':': '---...', ',': '--..--', '=': '-...-', '!': '-.-.--', '.': '.-.-.-',\n",
    " '-': '-....-', '+': '.-.-.', '\"': '.-..-.', '?': '..--..', '/': '-..-.'\n",
    "}\n",
    "    resltlist=[]\n",
    "    if type(inputString)== str:\n",
    "        toList=list(inputString)\n",
    "        for i in toList:\n",
    "            resltlist.append(char_to_dots.get(i))\n",
    "        \n",
    "    return \" \".join(resltlist)"
   ]
  },
  {
   "cell_type": "code",
   "execution_count": 41,
   "id": "dcc19e15",
   "metadata": {},
   "outputs": [
    {
     "data": {
      "text/plain": [
       "'. -.. .- -... -... .. -   -.-. .... .- .-.. .-.. . -. --. .'"
      ]
     },
     "execution_count": 41,
     "metadata": {},
     "output_type": "execute_result"
    }
   ],
   "source": [
    "encode_morse(\"EDABBIT CHALLENGE\")"
   ]
  },
  {
   "cell_type": "code",
   "execution_count": 43,
   "id": "f63fd462",
   "metadata": {},
   "outputs": [
    {
     "data": {
      "text/plain": [
       "'.... . .-.. .--.   -- .   -.-.--'"
      ]
     },
     "execution_count": 43,
     "metadata": {},
     "output_type": "execute_result"
    }
   ],
   "source": [
    "encode_morse(\"HELP ME !\")"
   ]
  },
  {
   "cell_type": "code",
   "execution_count": null,
   "id": "1cc8cb52",
   "metadata": {},
   "outputs": [],
   "source": [
    "4. Write a function that takes a number and returns True if it's a prime; False\n",
    "otherwise. The number can be 2^64-1 (2 to the power of 63, not XOR). With\n",
    "the standard technique it would be O(2^64-1), which is much too large for the\n",
    "10 second time limit.\n",
    "Examples\n",
    "prime(7) True\n",
    "prime(56963) True\n",
    "prime(5151512515524) False"
   ]
  },
  {
   "cell_type": "code",
   "execution_count": 53,
   "id": "8ff0a03c",
   "metadata": {},
   "outputs": [],
   "source": [
    "from math import sqrt\n",
    "def prime(number):\n",
    "    if number > 1:\n",
    "        for i in range(2,int(sqrt(number))+1):\n",
    "            if int(number%i) == 0:\n",
    "                print ('not aprime number')\n",
    "                break\n",
    "        else:\n",
    "            print ('prime number')"
   ]
  },
  {
   "cell_type": "code",
   "execution_count": 54,
   "id": "786bf80d",
   "metadata": {},
   "outputs": [
    {
     "name": "stdout",
     "output_type": "stream",
     "text": [
      "prime number\n"
     ]
    }
   ],
   "source": [
    "prime(56963)"
   ]
  },
  {
   "cell_type": "code",
   "execution_count": 55,
   "id": "2cc15d7a",
   "metadata": {},
   "outputs": [
    {
     "name": "stdout",
     "output_type": "stream",
     "text": [
      "not aprime number\n"
     ]
    }
   ],
   "source": [
    "prime(5151512515524)"
   ]
  },
  {
   "cell_type": "code",
   "execution_count": 56,
   "id": "a1b70ea5",
   "metadata": {},
   "outputs": [
    {
     "data": {
      "text/plain": [
       "97"
      ]
     },
     "execution_count": 56,
     "metadata": {},
     "output_type": "execute_result"
    }
   ],
   "source": [
    "ord('a')"
   ]
  },
  {
   "cell_type": "code",
   "execution_count": 57,
   "id": "58563376",
   "metadata": {},
   "outputs": [
    {
     "data": {
      "text/plain": [
       "65"
      ]
     },
     "execution_count": 57,
     "metadata": {},
     "output_type": "execute_result"
    }
   ],
   "source": [
    "ord('A')"
   ]
  },
  {
   "cell_type": "code",
   "execution_count": null,
   "id": "e9d1a831",
   "metadata": {},
   "outputs": [],
   "source": [
    "5. Create a function that converts a word to a bitstring and then to a boolean\n",
    "list based on the following criteria:\n",
    " 1. Locate the position of the letter in the English alphabet (from 1 to 26).\n",
    " 2. Odd positions will be represented as 1 and 0 otherwise.\n",
    " 3. Convert the represented positions to boolean values, 1 for True and 0\n",
    "for False.\n",
    " 4. Store the conversions into an array.\n",
    " Examples\n",
    "to_boolean_list(\"deep\") [False, True, True, False]\n",
    "# deep converts to 0110\n",
    "# d is the 4th alphabet - 0\n",
    "# e is the 5th alphabet - 1\n",
    "# e is the 5th alphabet - 1\n",
    "# p is the 16th alphabet - 0\n",
    "to_boolean_list(\"loves\") [False, True, False, True, True]\n",
    "to_boolean_list(\"tesh\") [False, True, True, False]"
   ]
  },
  {
   "cell_type": "code",
   "execution_count": 82,
   "id": "4602ba76",
   "metadata": {},
   "outputs": [],
   "source": [
    "def to_boolean_list(inputString):\n",
    "    listresult=[]\n",
    "    strresult=\"\";\n",
    "    if len(inputString)>0:\n",
    "        for i in range(len(inputString)):\n",
    "            if ord(inputString[i])%2==0:\n",
    "                listresult.append(False)\n",
    "            else:\n",
    "                listresult.append(True)\n",
    "            strresult=strresult+ str(ord(inputString[i])%2)\n",
    "    return listresult,strresult\n",
    "        \n",
    "        \n",
    "        \n",
    "        "
   ]
  },
  {
   "cell_type": "code",
   "execution_count": 83,
   "id": "9c93e414",
   "metadata": {},
   "outputs": [
    {
     "data": {
      "text/plain": [
       "([False, True, True, False], '0110')"
      ]
     },
     "execution_count": 83,
     "metadata": {},
     "output_type": "execute_result"
    }
   ],
   "source": [
    "to_boolean_list(\"deep\")"
   ]
  },
  {
   "cell_type": "code",
   "execution_count": 84,
   "id": "e3e59083",
   "metadata": {},
   "outputs": [
    {
     "data": {
      "text/plain": [
       "([False, True, False, True, True], '01011')"
      ]
     },
     "execution_count": 84,
     "metadata": {},
     "output_type": "execute_result"
    }
   ],
   "source": [
    "to_boolean_list(\"loves\")"
   ]
  },
  {
   "cell_type": "code",
   "execution_count": 85,
   "id": "84d1f829",
   "metadata": {},
   "outputs": [
    {
     "data": {
      "text/plain": [
       "([False, True, True, False], '0110')"
      ]
     },
     "execution_count": 85,
     "metadata": {},
     "output_type": "execute_result"
    }
   ],
   "source": [
    "to_boolean_list(\"tesh\")"
   ]
  },
  {
   "cell_type": "code",
   "execution_count": null,
   "id": "d582eb15",
   "metadata": {},
   "outputs": [],
   "source": []
  }
 ],
 "metadata": {
  "kernelspec": {
   "display_name": "Python 3 (ipykernel)",
   "language": "python",
   "name": "python3"
  },
  "language_info": {
   "codemirror_mode": {
    "name": "ipython",
    "version": 3
   },
   "file_extension": ".py",
   "mimetype": "text/x-python",
   "name": "python",
   "nbconvert_exporter": "python",
   "pygments_lexer": "ipython3",
   "version": "3.9.7"
  }
 },
 "nbformat": 4,
 "nbformat_minor": 5
}
